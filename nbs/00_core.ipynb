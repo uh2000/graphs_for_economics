{
 "cells": [
  {
   "cell_type": "markdown",
   "metadata": {},
   "source": [
    "# core\n",
    "\n",
    "> Fill in a module description here"
   ]
  },
  {
   "cell_type": "code",
   "execution_count": 47,
   "metadata": {},
   "outputs": [],
   "source": [
    "#| default_exp core"
   ]
  },
  {
   "cell_type": "code",
   "execution_count": 48,
   "metadata": {},
   "outputs": [],
   "source": [
    "#| hide\n",
    "from nbdev.showdoc import *"
   ]
  },
  {
   "cell_type": "code",
   "execution_count": 49,
   "metadata": {},
   "outputs": [],
   "source": [
    "#| export\n",
    "import matplotlib.pyplot as plt\n",
    "from sympy import *\n",
    "import sympy\n",
    "\n",
    "class Graph_free_market:\n",
    "    def __init__(self) -> None:\n",
    "        pass\n",
    "        \n",
    "    \n",
    "    def __str__(self):\n",
    "        return str(self.__class__) + \": \" + str(self.__dict__)\n",
    "        \n",
    "\n",
    "    def market_graph(self, supply: str, demand: str, start: int, end: int, step: int, complete = False) -> None:\n",
    "        price = self.get_price(supply, demand)\n",
    "        quantity = self.get_quantity(supply, demand)\n",
    "\n",
    "        supply = self.get_calculate_values(supply, start, end, step)\n",
    "        demand = self.get_calculate_values(demand, start, end, step)\n",
    "\n",
    "        if complete == True:\n",
    "            plt.plot([i for i in range(0, round(quantity) + 1)], [price for i in range(0, round(quantity) + 1)],\n",
    "                     linestyle = \"dashed\", label = f\"Price*: {price}\")\n",
    "            plt.plot([quantity for i in range(0, round(price) + 1 )], [i for i in range(0,round(price) + 1)],\n",
    "                     linestyle = \"dashed\", label = f\"Quantity*: {quantity}\")\n",
    "\n",
    "\n",
    "     \n",
    "        plt.plot(supply.keys(),supply.values(), label = \"Supply\") \n",
    "        plt.plot(demand.keys(),demand.values(), label = \"Demand\") \n",
    "\n",
    "        \n",
    "\n",
    "        plt.xlabel(\"Quantity\")\n",
    "        plt.ylabel(\"Price\")\n",
    "\n",
    "        plt.legend() \n",
    "        plt.show()\n",
    "\n",
    "\n",
    "    def get_calculate_values(self, expression: str, start: int, end: int, step: int) -> dict:\n",
    "        #from sympy import symbols, parse_expr,solve, Eq\n",
    "        value_pairs = {}\n",
    "        equation_function = self.create_equation_function(expression)\n",
    "        if equation_function:\n",
    "            x_values = [i for i in range(start, end, step)]\n",
    "            for x_val in x_values:\n",
    "                result = equation_function(x_val)\n",
    "                value_pairs[x_val] = result\n",
    "                \n",
    "               # print(f\"For x = {x_val}, the result is {result}\")\n",
    "\n",
    "        else:\n",
    "            print(\"Error: Unable to create the equation function.\")\n",
    "        return value_pairs\n",
    "\n",
    "\n",
    "    def create_equation_function(self, equation_str: str) -> str:\n",
    "        x = symbols('x')\n",
    "        \n",
    "        try:\n",
    "            equation = parse_expr(equation_str)\n",
    "            equation_function = lambda x_val: equation.subs(x, x_val)\n",
    "            return equation_function\n",
    "        except Exception as e:\n",
    "            return None\n",
    "\n",
    "\n",
    "    def get_quantity(self, supply: str, demand: str) -> float:\n",
    "        x = symbols('x')\n",
    "        \n",
    "        # Create the equation from the supply and demand functions\n",
    "        supply_eq = parse_expr(supply)\n",
    "        demand_eq = parse_expr(demand)\n",
    "        \n",
    "        # Calculate the equilibrium price and quantity\n",
    "        quantity = max(solve(Eq(supply_eq, demand_eq), x))\n",
    "        return round(quantity)\n",
    "    \n",
    "\n",
    "    def get_price(self, supply: str, demand: str) -> float:\n",
    "        x, y = symbols('x y')\n",
    "        \n",
    "        # Create the equation from the supply and demand functions\n",
    "        supply_eq = parse_expr(supply)\n",
    "        demand_eq = parse_expr(demand)\n",
    "        \n",
    "        print(supply_eq, demand_eq)\n",
    "\n",
    "        inverse_supply = solve(supply_eq - y, x)[0]\n",
    "        inverse_demand = solve(demand_eq - y, x)[0]\n",
    "        \n",
    "\n",
    "        price = max(solve(Eq(inverse_supply, inverse_demand), y))\n",
    "        \n",
    "        return round(price)\n",
    "\n",
    "        \n",
    "    def get_consumer_surplus(self, supply: str, demand: str) -> float:\n",
    "        x, y = symbols('x y')\n",
    "        \n",
    "        # Create the equation from the supply and demand functions\n",
    "        supply_eq = parse_expr(supply)\n",
    "        demand_eq = parse_expr(demand)\n",
    "        \n",
    "        # Calculate the equilibrium price and quantity\n",
    "        price = self.get_price(supply, demand)\n",
    "        quantity = self.get_quantity(supply, demand)\n",
    "        \n",
    "        # Define the inverse demand function (price as a function of quantity)\n",
    "        consumer_surplus = parse_expr(f\"{demand}-{price}\")\n",
    "        \n",
    "        # Calculate consumer surplus\n",
    "        surplus = sympy.integrate(consumer_surplus, (x, 0, quantity)) \n",
    "        \n",
    "        return round(surplus)\n",
    "    \n",
    "\n",
    "    def get_producer_surplus(self, supply: str, demand: str) -> float:\n",
    "        x, y = symbols('x y')\n",
    "        \n",
    "        # Create the equation from the supply and demand functions\n",
    "        supply_eq = parse_expr(supply)\n",
    "        demand_eq = parse_expr(demand)\n",
    "        \n",
    "        # Calculate the equilibrium price and quantity\n",
    "        price = self.get_price(supply, demand)\n",
    "        quantity = self.get_quantity(supply, demand)\n",
    "        \n",
    "        # Define the inverse demand function (price as a function of quantity)\n",
    "        inverse_supply = solve(supply_eq - y, x)[0]\n",
    "\n",
    "        producer_surplus = parse_expr(f\"{quantity}-{inverse_supply}\")\n",
    "        \n",
    "        # Calculate consumer surplus\n",
    "        surplus = sympy.integrate(producer_surplus, (y, 0, price)) \n",
    "        \n",
    "        return round(surplus)\n",
    "\n",
    "\n",
    "    def get_economic_surplus(self, supply: str, demand: str) -> float:\n",
    "        consumer = self.get_consumer_surplus(supply, demand)\n",
    "        producer = self.get_producer_surplus(supply, demand)\n",
    "        economic_surplus = consumer + producer\n",
    "        return economic_surplus"
   ]
  },
  {
   "cell_type": "code",
   "execution_count": 50,
   "metadata": {},
   "outputs": [],
   "source": [
    "#| export\n",
    "import matplotlib.pyplot as plt\n",
    "from sympy import *\n",
    "import sympy\n",
    "class Graph_monopoly(Graph_free_market):\n",
    "    def __init__(self) -> None:\n",
    "        super().__init__()\n",
    "        \n",
    "    \n",
    "    def market_graph(self, supply: str, demand: str, start: int, end: int, step: int, complete = False, is_tot_cost = False) -> None:\n",
    "        x = symbols('x')\n",
    "        \n",
    "        if is_tot_cost == True:\n",
    "            supply_parsed = parse_expr(supply)\n",
    "            marginal_cost = diff(supply_parsed, x)\n",
    "        \n",
    "        demand_parsed = parse_expr(demand)\n",
    "        marginal_revenue = diff(demand_parsed, x)\n",
    "        \n",
    "        \n",
    "        \n",
    "        supply, demand =str(marginal_cost), str(marginal_revenue)\n",
    "        \n",
    "        \n",
    "        \n",
    "        price = self.get_price(supply, demand)\n",
    "        quantity = self.get_quantity(supply, demand)\n",
    "\n",
    "        supply = self.get_calculate_values(supply, start, end, step)\n",
    "        demand = self.get_calculate_values(demand, start, end, step)\n",
    "\n",
    "        if complete == True:\n",
    "            plt.plot([i for i in range(0, round(quantity) + 1)], [price for i in range(0, round(quantity) + 1)],\n",
    "                     linestyle = \"dashed\", label = f\"Price*: {price}\")\n",
    "            plt.plot([quantity for i in range(0, round(price) + 1 )], [i for i in range(0,round(price) + 1)],\n",
    "                     linestyle = \"dashed\", label = f\"Quantity*: {quantity}\")\n",
    "\n",
    "\n",
    "     \n",
    "        plt.plot(supply.keys(),supply.values(), label = \"Supply\") \n",
    "        plt.plot(demand.keys(),demand.values(), label = \"Demand\") \n",
    "\n",
    "        \n",
    "\n",
    "        plt.xlabel(\"Quantity\")\n",
    "        plt.ylabel(\"Price\")\n",
    "\n",
    "        plt.legend() \n",
    "        plt.show()\n",
    "\n",
    "\n",
    "    \n",
    "\n",
    "\n",
    "    \n",
    "        \n",
    "        \n",
    "        \n",
    "        \n",
    "    \n",
    "    \n",
    "        \n",
    "        # return super().market_graph(supply, demand, start, end, step, complete)\n",
    "        \n",
    "\n"
   ]
  },
  {
   "cell_type": "code",
   "execution_count": 51,
   "metadata": {},
   "outputs": [
    {
     "name": "stdout",
     "output_type": "stream",
     "text": [
      "4*x 50 - 6*x\n"
     ]
    },
    {
     "data": {
      "image/png": "[encoded data removed]",
      "text/plain": [
       "<Figure size 432x288 with 1 Axes>"
      ]
     },
     "metadata": {
      "needs_background": "light"
     },
     "output_type": "display_data"
    }
   ],
   "source": [
    "graph = Graph_monopoly()\n",
    "supply = \"2*x**2\"\n",
    "demand = \"50*x -  3*x**2\"\n",
    "graph.market_graph(supply, demand,0, 12, 1, complete=True, is_tot_cost = True)"
   ]
  },
  {
   "cell_type": "code",
   "execution_count": 52,
   "metadata": {},
   "outputs": [],
   "source": [
    "graph = Graph_free_market()\n",
    "supply_function = \" x*2\"\n",
    "demand_function = \"1000 -  3*x**2\""
   ]
  },
  {
   "cell_type": "code",
   "execution_count": 53,
   "metadata": {},
   "outputs": [
    {
     "name": "stdout",
     "output_type": "stream",
     "text": [
      "2*x 1000 - 3*x**2\n"
     ]
    },
    {
     "name": "stdout",
     "output_type": "stream",
     "text": [
      "Consumer Surplus: 12834\n",
      "2*x 1000 - 3*x**2\n",
      "Producer Surplus: -1008\n",
      "2*x 1000 - 3*x**2\n",
      "2*x 1000 - 3*x**2\n",
      "Economic Surplus: 11826\n"
     ]
    }
   ],
   "source": [
    "\n",
    "\n",
    "consumer_surplus = graph.get_consumer_surplus(supply_function, demand_function)\n",
    "print(\"Consumer Surplus:\", consumer_surplus)\n",
    "\n",
    "producer_surplus = graph.get_producer_surplus(supply_function, demand_function)\n",
    "print(\"Producer Surplus:\", producer_surplus)\n",
    "\n",
    "economic_surplus = graph.get_economic_surplus(supply_function, demand_function)\n",
    "\n",
    "print(\"Economic Surplus:\", economic_surplus)\n"
   ]
  },
  {
   "cell_type": "code",
   "execution_count": 54,
   "metadata": {},
   "outputs": [
    {
     "name": "stdout",
     "output_type": "stream",
     "text": [
      "2*x 1000 - 3*x**2\n"
     ]
    },
    {
     "data": {
      "image/png": "[encoded data removed]",
      "text/plain": [
       "<Figure size 432x288 with 1 Axes>"
      ]
     },
     "metadata": {
      "needs_background": "light"
     },
     "output_type": "display_data"
    }
   ],
   "source": [
    "# find inverse of the supply and demand and then calculate the price\n",
    "graph.market_graph(supply_function, demand_function,0, 40, 10, complete=True)"
   ]
  },
  {
   "cell_type": "code",
   "execution_count": 55,
   "metadata": {},
   "outputs": [
    {
     "name": "stdout",
     "output_type": "stream",
     "text": [
      "2*x 1000 - 3*x**2\n",
      "Price: -37, Quantity: 18\n"
     ]
    }
   ],
   "source": [
    "price = graph.get_price(supply_function, demand_function)\n",
    "quantity = graph.get_quantity(supply_function, demand_function)\n",
    "print(f\"Price: {price}, Quantity: {quantity}\")"
   ]
  },
  {
   "cell_type": "code",
   "execution_count": 56,
   "metadata": {},
   "outputs": [],
   "source": [
    "#| hide\n",
    "import nbdev; nbdev.nbdev_export()"
   ]
  }
 ],
 "metadata": {
  "kernelspec": {
   "display_name": "python3",
   "language": "python",
   "name": "python3"
  },
  "language_info": {
   "codemirror_mode": {
    "name": "ipython",
    "version": 3
   },
   "file_extension": ".py",
   "mimetype": "text/x-python",
   "name": "python",
   "nbconvert_exporter": "python",
   "pygments_lexer": "ipython3",
   "version": "3.10.12"
  }
 },
 "nbformat": 4,
 "nbformat_minor": 4
}
